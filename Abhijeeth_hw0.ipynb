{
  "metadata": {
    "language_info": {
      "codemirror_mode": {
        "name": "python",
        "version": 3
      },
      "file_extension": ".py",
      "mimetype": "text/x-python",
      "name": "python",
      "nbconvert_exporter": "python",
      "pygments_lexer": "ipython3",
      "version": "3.8"
    },
    "kernelspec": {
      "name": "python",
      "display_name": "Python (Pyodide)",
      "language": "python"
    }
  },
  "nbformat_minor": 4,
  "nbformat": 4,
  "cells": [
    {
      "cell_type": "markdown",
      "source": "Zotero Username : Abhi1484\n\nZotero Mail : ASudini2472@muleriders.saumag.edu\n\n\n\nQ1. List 3 things that you learned from this podcast?\nA.  1)Adam talked about digital notebooks, I have learnt about the digital notebooks like niche, maple and manymore\n    2)Wavelet decomposition in the podcast and started researching what it is.\n    3)Computational notebooks have a gread description cell by cell in computational notebooks.\n    \n    \nQ2. What is your reaction to the podcast? Pick at least one point Adam brought up in the interview that you agree with and\n    list your reason why.\nA.  Now that I learnt about jupyternotebook, I am eager to work with it. When Adam talked about how doctors use previous patients data\n    for present problems, it is nothing but data science. In addition to the details of patients mostly doctors draw results with the\n    help of previous data only, so many discoveries and theories have statistical evidences which means they are backed up or sometimes \n    proved with help of previous data.which is nothing but data science. Which means that data science was always practiced and if we \n    find more ways to extract and analyse more data, there is a possibility that much more discoveries might be made.\n    \nQ3. After listening to the podcast, do you think you are more interested or less interested in learning from Jupyter notebooks\n    on Github?\nA.  I am now more interested in learning from jupiter notebooks, there are many reasons primary reason being I can use somebody\n    else's work as a refernce to implement my practices.\n    \n    \n    ",
      "metadata": {}
    }
  ]
}